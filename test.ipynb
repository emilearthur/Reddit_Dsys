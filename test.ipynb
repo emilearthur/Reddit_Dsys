{
 "cells": [
  {
   "cell_type": "code",
   "execution_count": 1,
   "source": [
    "import praw\n",
    "\n",
    "reddit = praw.Reddit(client_id='rM9D0StsGDcFEEqEhkFyOw', client_secret='Uf7u48btvM5WtHovscPdzOEe4NPRLQ', user_agent='emile_scrapper')"
   ],
   "outputs": [],
   "metadata": {}
  },
  {
   "cell_type": "code",
   "execution_count": 30,
   "source": [
    "#hot_posts = reddit.subreddit('MachineLearning').hot(limit=10)\n",
    "for post in hot_posts:\n",
    "    print(post.id, post.title, post.score, post.url, post.author, post.created_utc)# post.selftext, include in db"
   ],
   "outputs": [
    {
     "output_type": "stream",
     "name": "stdout",
     "text": [
      "oinb2v [R] The Bayesian Learning Rule 179 https://arxiv.org/abs/2107.04562 hardmaru 1626079415.0\n",
      "oj1w02 [P] Install or update CUDA, NVIDIA Drivers, Pytorch, Tensorflow, and CuDNN with a single command: Lambda Stack 15 https://www.reddit.com/r/MachineLearning/comments/oj1w02/p_install_or_update_cuda_nvidia_drivers_pytorch/ sabalaba 1626128257.0\n",
      "oj19x1 [D] What could possibly cause a test/train loss graph like this? 6 https://www.reddit.com/r/MachineLearning/comments/oj19x1/d_what_could_possibly_cause_a_testtrain_loss/ Eodmg 1626126421.0\n",
      "ohxnts [D] This AI reveals how much time politicians stare at their phone at work 3773 https://i.redd.it/34sgziebfia71.jpg TheInsaneApp 1625977139.0\n",
      "oj3iy6 [P] Unsupervised Behavioral Learning (UBL) revisited 1 https://www.reddit.com/r/MachineLearning/comments/oj3iy6/p_unsupervised_behavioral_learning_ubl_revisited/ CireNeikual 1626133569.0\n",
      "oixbeb [D] Intuition For Request Function In Backprop As Functor Paper 2 https://www.reddit.com/r/MachineLearning/comments/oixbeb/d_intuition_for_request_function_in_backprop_as/ isbtegsm 1626114652.0\n",
      "oif5dp [D] Adding guassian noise to Discriminator layers in GAN helps really stablizing training, generates sharper images and avoid mode collapse. 68 https://www.reddit.com/r/MachineLearning/comments/oif5dp/d_adding_guassian_noise_to_discriminator_layers/ 0x00groot 1626045954.0\n",
      "oiudyw [P] Tangram: All-in-One Automated Machine Learning Framework 3 https://www.reddit.com/r/MachineLearning/comments/oiudyw/p_tangram_allinone_automated_machine_learning/ davidyamnitsky 1626106218.0\n",
      "oitzhb [R] MIT Proposes Novel End-to-End Procedure for Corrupted Data Cleaning, Estimation, and Inference 3 https://www.reddit.com/r/MachineLearning/comments/oitzhb/r_mit_proposes_novel_endtoend_procedure_for/ Yuqing7 1626104893.0\n"
     ]
    }
   ],
   "metadata": {}
  },
  {
   "cell_type": "code",
   "execution_count": null,
   "source": [],
   "outputs": [],
   "metadata": {}
  }
 ],
 "metadata": {
  "orig_nbformat": 4,
  "language_info": {
   "name": "python"
  }
 },
 "nbformat": 4,
 "nbformat_minor": 2
}