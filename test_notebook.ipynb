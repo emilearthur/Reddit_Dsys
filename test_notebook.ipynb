{
 "cells": [
  {
   "cell_type": "code",
   "execution_count": 1,
   "source": [
    "import praw\n",
    "\n",
    "reddit = praw.Reddit(client_id='rM9D0StsGDcFEEqEhkFyOw', client_secret='Uf7u48btvM5WtHovscPdzOEe4NPRLQ', user_agent='emile_scrapper')"
   ],
   "outputs": [],
   "metadata": {}
  },
  {
   "cell_type": "code",
   "execution_count": 3,
   "source": [
    "hot_posts = reddit.subreddit('MachineLearning').hot(limit=10)\n",
    "for post in hot_posts:\n",
    "    print(post.id, post.title, post.score, post.url, post.author, post.created_utc)# post.selftext, include in db"
   ],
   "outputs": [
    {
     "output_type": "stream",
     "name": "stdout",
     "text": [
      "odrudt [D] Machine Learning - WAYR (What Are You Reading) - Week 116 20 https://www.reddit.com/r/MachineLearning/comments/odrudt/d_machine_learning_wayr_what_are_you_reading_week/ ML_WAYR_bot 1625428805.0\n",
      "ojdmza [D] Similarity of a high ranking journal publication with an earlier published arxiv paper? 146 https://www.reddit.com/r/MachineLearning/comments/ojdmza/d_similarity_of_a_high_ranking_journal/ CatCalm8947 1626175745.0\n",
      "ojl611 [D] JAX in production 16 https://www.reddit.com/r/MachineLearning/comments/ojl611/d_jax_in_production/ _katta 1626199405.0\n",
      "oj1w02 [P] Install or update CUDA, NVIDIA Drivers, Pytorch, Tensorflow, and CuDNN with a single command: Lambda Stack 251 https://www.reddit.com/r/MachineLearning/comments/oj1w02/p_install_or_update_cuda_nvidia_drivers_pytorch/ sabalaba 1626128257.0\n",
      "oj75ae [D] What are Diffusion Models? by Lilian Weng 94 https://www.reddit.com/r/MachineLearning/comments/oj75ae/d_what_are_diffusion_models_by_lilian_weng/ regalalgorithm 1626146547.0\n",
      "ojka3z [D] Useful classes to take for ML/Research Engineers? 8 https://www.reddit.com/r/MachineLearning/comments/ojka3z/d_useful_classes_to_take_for_mlresearch_engineers/ piykat 1626196872.0\n",
      "ojrndw [D] Starting out in Scalable ML / Sys - ML / Distributed ML? 2 https://www.reddit.com/r/MachineLearning/comments/ojrndw/d_starting_out_in_scalable_ml_sys_ml_distributed/ A27_97 1626218589.0\n",
      "oji7fs [D] What pdf parser do you use for paragraph parsing for huggingface models 9 https://www.reddit.com/r/MachineLearning/comments/oji7fs/d_what_pdf_parser_do_you_use_for_paragraph/ gevezex 1626190838.0\n",
      "ojp76r Self Taught Machine Learning Engineers: Tell us how did you land a job in ML [D] 1 https://www.reddit.com/r/MachineLearning/comments/ojp76r/self_taught_machine_learning_engineers_tell_us/ Jolly-Web9421 1626210988.0\n",
      "ojsouo [P] AI Arena - Closed Beta 1 https://www.reddit.com/r/MachineLearning/comments/ojsouo/p_ai_arena_closed_beta/ brandinho77 1626222107.0\n"
     ]
    }
   ],
   "metadata": {}
  },
  {
   "cell_type": "code",
   "execution_count": 5,
   "source": [
    "data = []\n",
    "posts = reddit.subreddit('MachineLearning').hot(limit=20)\n",
    "for post in posts:\n",
    "    data_dict = {\n",
    "        'id': post.id,\n",
    "        'title': post.title,\n",
    "        'score': post.score,\n",
    "        'url': post.url,\n",
    "        'author': post.author, \n",
    "        'subreddit': post.subreddit_name_prefixed,\n",
    "        'description': post.selftext\n",
    "    }\n",
    "    data.append(post)\n",
    "\n",
    "data"
   ],
   "outputs": [
    {
     "output_type": "execute_result",
     "data": {
      "text/plain": [
       "[Submission(id='odrudt'),\n",
       " Submission(id='ojdmza'),\n",
       " Submission(id='ojl611'),\n",
       " Submission(id='oj1w02'),\n",
       " Submission(id='oj75ae'),\n",
       " Submission(id='ojka3z'),\n",
       " Submission(id='ojrndw'),\n",
       " Submission(id='oji7fs'),\n",
       " Submission(id='ojp76r'),\n",
       " Submission(id='ojsouo'),\n",
       " Submission(id='ojhvkl'),\n",
       " Submission(id='ojj7cr'),\n",
       " Submission(id='ojfuqu'),\n",
       " Submission(id='ojqdjl'),\n",
       " Submission(id='oji890'),\n",
       " Submission(id='ojepja'),\n",
       " Submission(id='ojf2hk'),\n",
       " Submission(id='ojlqsz'),\n",
       " Submission(id='ojj1c1'),\n",
       " Submission(id='oj7u47')]"
      ]
     },
     "metadata": {},
     "execution_count": 5
    }
   ],
   "metadata": {}
  },
  {
   "cell_type": "code",
   "execution_count": 1,
   "source": [
    "import os \n",
    "\n",
    "def getParentDir(CurrentPath, levels = 1): \n",
    "    current_new = CurrentPath\n",
    "    for i in range(levels + 1): \n",
    "   \n",
    "        current_new = os.path.dirname(current_new) \n",
    "  \n",
    "   \n",
    "    return os.path.relpath(CurrentPath, current_new)\n",
    "\n"
   ],
   "outputs": [],
   "metadata": {}
  },
  {
   "cell_type": "code",
   "execution_count": 2,
   "source": [
    "path = os.getcwd()\n",
    "parent_path = getParentDir(path, 1)\n",
    "parent_path"
   ],
   "outputs": [
    {
     "output_type": "execute_result",
     "data": {
      "text/plain": [
       "'workspace/Reddit_Dsys'"
      ]
     },
     "metadata": {},
     "execution_count": 2
    }
   ],
   "metadata": {}
  },
  {
   "cell_type": "code",
   "execution_count": 5,
   "source": [
    "x = os.path.join(parent_path,\"backend\")\n",
    "y = os.path.join(x, \"app\")\n",
    "\n",
    "x, y"
   ],
   "outputs": [
    {
     "output_type": "execute_result",
     "data": {
      "text/plain": [
       "('workspace/Reddit_Dsys/backend', 'workspace/Reddit_Dsys/backend/app')"
      ]
     },
     "metadata": {},
     "execution_count": 5
    }
   ],
   "metadata": {}
  },
  {
   "cell_type": "code",
   "execution_count": 1,
   "source": [
    "import os \n",
    "\n",
    "# function to get parent directory\n",
    "def getParentDir(CurrentPath, levels = 1): \n",
    "    current_new = CurrentPath\n",
    "    for i in range(levels + 1): \n",
    "   \n",
    "        current_new = os.path.dirname(current_new) \n",
    "  \n",
    "   \n",
    "    return os.path.relpath(CurrentPath, current_new)"
   ],
   "outputs": [],
   "metadata": {}
  },
  {
   "cell_type": "code",
   "execution_count": 2,
   "source": [
    "path = os.getcwd()\n",
    "print(getParentDir(path, 1))"
   ],
   "outputs": [
    {
     "output_type": "stream",
     "name": "stdout",
     "text": [
      "workspace/Reddit_Dsys\n"
     ]
    }
   ],
   "metadata": {}
  },
  {
   "cell_type": "code",
   "execution_count": 15,
   "source": [
    "# function to get parent directory\n",
    "def getParentDir(CurrentPath, levels = 1): \n",
    "    current_new = CurrentPath\n",
    "    for i in range(levels + 1): \n",
    "   \n",
    "        current_new = os.path.dirname(current_new) \n",
    "  \n",
    "   \n",
    "    return os.path.relpath(CurrentPath, current_new)"
   ],
   "outputs": [],
   "metadata": {}
  },
  {
   "cell_type": "code",
   "execution_count": 17,
   "source": [
    "path = os.getcwd()\n",
    "print(getParentDir(path, 1))"
   ],
   "outputs": [
    {
     "output_type": "stream",
     "name": "stdout",
     "text": [
      "backend/app\n"
     ]
    }
   ],
   "metadata": {}
  },
  {
   "cell_type": "code",
   "execution_count": 18,
   "source": [
    "print(getParentDir(path, -1))"
   ],
   "outputs": [
    {
     "output_type": "stream",
     "name": "stdout",
     "text": [
      ".\n"
     ]
    }
   ],
   "metadata": {}
  },
  {
   "cell_type": "code",
   "execution_count": 6,
   "source": [
    "def getDir_FromParent(CurrentPath, levels = 1, new_path:str=None):\n",
    "    \"\"\"Get parent path of the directory. Can also add path to it.\n",
    "    \"\"\"\n",
    "    current_new = CurrentPath\n",
    "    for i in range(levels + 1): \n",
    "        current_new = os.path.dirname(current_new) \n",
    "    \n",
    "    if new_path is None:\n",
    "        return os.path.relpath(CurrentPath, current_new)\n",
    "    return os.path.join(os.path.relpath(CurrentPath, current_new), new_path)"
   ],
   "outputs": [],
   "metadata": {}
  },
  {
   "cell_type": "code",
   "execution_count": 7,
   "source": [
    "save_path = getDir_FromParent(os.getcwd(), 1, 'Data')\n",
    "save_path"
   ],
   "outputs": [
    {
     "output_type": "execute_result",
     "data": {
      "text/plain": [
       "'workspace/Reddit_Dsys/Data'"
      ]
     },
     "metadata": {},
     "execution_count": 7
    }
   ],
   "metadata": {}
  },
  {
   "cell_type": "code",
   "execution_count": 13,
   "source": [
    "from datetime import datetime\n",
    "\n",
    "site = \"Reddit\"\n",
    "\n",
    "outputfilename=f\"output_{site}_{datetime.now().strftime('%d-%m-%Y-%H-%M')}\"\n",
    "\n",
    "os.path.join('/home/',save_path, outputfilename+\".txt\")"
   ],
   "outputs": [
    {
     "output_type": "execute_result",
     "data": {
      "text/plain": [
       "'/home/workspace/Reddit_Dsys/Data/output_Reddit_14-07-2021-01-38.txt'"
      ]
     },
     "metadata": {},
     "execution_count": 13
    }
   ],
   "metadata": {}
  },
  {
   "cell_type": "code",
   "execution_count": null,
   "source": [
    "def getDir_FromParent(CurrentPath, levels = 1, new_path:str=None):\n",
    "    \"\"\"Get parent path of the directory. Can also add path to it.\n",
    "    \"\"\"\n",
    "    current_new = CurrentPath\n",
    "    for i in range(levels + 1): \n",
    "        current_new = os.path.dirname(current_new) \n",
    "    \n",
    "    if new_path is None:\n",
    "        return os.path.relpath(CurrentPath, current_new)\n",
    "    return os.path.join(os.path.relpath(CurrentPath, current_new), new_path)\n"
   ],
   "outputs": [],
   "metadata": {}
  }
 ],
 "metadata": {
  "orig_nbformat": 4,
  "language_info": {
   "name": "python"
  }
 },
 "nbformat": 4,
 "nbformat_minor": 2
}